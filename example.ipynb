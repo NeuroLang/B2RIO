{
 "cells": [
  {
   "cell_type": "code",
   "execution_count": 1,
   "metadata": {},
   "outputs": [],
   "source": [
    "import nibabel as nib\n",
    "from nilearn import datasets, image\n",
    "import numpy as np\n",
    "\n",
    "brain_path = 'JULICH_BRAIN_CYTOARCHITECTONIC_MAPS_2_9_MNI152_2009C_NONL_ASYM.pmaps.nii.gz'\n",
    "\n",
    "resample = 4\n",
    "mni_t1 = nib.load(datasets.fetch_icbm152_2009()['t1'])\n",
    "mni_t1 = image.resample_img(mni_t1, np.eye(3) * resample)\n",
    "pmaps_4d = image.resample_img(\n",
    "    image.load_img(brain_path), mni_t1.affine, interpolation='nearest'\n",
    ")"
   ]
  },
  {
   "cell_type": "code",
   "execution_count": 2,
   "metadata": {},
   "outputs": [],
   "source": [
    "non_zero = np.nonzero(pmaps_4d.dataobj)\n",
    "for x, y, z, r in zip(*non_zero):\n",
    "    if r in [105, 106, 107, 108, 109, 110, 111, 112]:\n",
    "        pmaps_4d.dataobj[x][y][z] = r\n",
    "    else:\n",
    "        pmaps_4d.dataobj[x][y][z] = 0"
   ]
  },
  {
   "cell_type": "code",
   "execution_count": 3,
   "metadata": {},
   "outputs": [],
   "source": [
    "brain_image = nib.Nifti1Image(pmaps_4d.dataobj, pmaps_4d.affine, nib.Nifti1Header())"
   ]
  },
  {
   "cell_type": "code",
   "execution_count": 4,
   "metadata": {},
   "outputs": [],
   "source": [
    "from b2rio.processing import Solver\n",
    "s = Solver(resample=4)\n",
    "df = s.run(brain_image, radius=4)"
   ]
  },
  {
   "cell_type": "code",
   "execution_count": 5,
   "metadata": {},
   "outputs": [
    {
     "data": {
      "text/plain": [
       "                    term  fold        bf\n",
       "0                 action     0  1.157380\n",
       "1             adaptation     0  0.884587\n",
       "2              addiction     0  0.737152\n",
       "3           anticipation     0  0.888819\n",
       "4                anxiety     0  0.793318\n",
       "...                  ...   ...       ...\n",
       "18595     verbal fluency   149  1.255557\n",
       "18596   visual attention   149  1.143267\n",
       "18597  visual perception   149  0.567471\n",
       "18598   word recognition   149  1.135626\n",
       "18599     working memory   149  1.274648\n",
       "\n",
       "[18600 rows x 3 columns]"
      ]
     },
     "execution_count": 5,
     "metadata": {},
     "output_type": "execute_result"
    }
   ],
   "source": [
    "df"
   ]
  }
 ],
 "metadata": {
  "kernelspec": {
   "display_name": "Python 3.9.12 ('b2rio')",
   "language": "python",
   "name": "python3"
  },
  "language_info": {
   "codemirror_mode": {
    "name": "ipython",
    "version": 3
   },
   "file_extension": ".py",
   "mimetype": "text/x-python",
   "name": "python",
   "nbconvert_exporter": "python",
   "pygments_lexer": "ipython3",
   "version": "3.8.5"
  },
  "orig_nbformat": 4,
  "vscode": {
   "interpreter": {
    "hash": "fc35c1714800d27a526dc10e912072b1ec1592182b3989c828d7f7c11c6198a4"
   }
  }
 },
 "nbformat": 4,
 "nbformat_minor": 2
}
