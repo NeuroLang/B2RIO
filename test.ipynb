{
 "cells": [
  {
   "cell_type": "code",
   "execution_count": 1,
   "metadata": {},
   "outputs": [
    {
     "name": "stderr",
     "output_type": "stream",
     "text": [
      "/Users/gzanitti/.local/lib/python3.8/site-packages/nilearn-0.8.1-py3.8.egg/nilearn/datasets/__init__.py:93: FutureWarning: Fetchers from the nilearn.datasets module will be updated in version 0.9 to return python strings instead of bytes and Pandas dataframes instead of Numpy arrays.\n",
      "  warn(\"Fetchers from the nilearn.datasets module will be \"\n"
     ]
    }
   ],
   "source": [
    "from b2rio.analysis import Analyzer\n",
    "from b2rio.processing import Solver\n",
    "\n",
    "s = Solver(resample=10)\n",
    "a = Analyzer()"
   ]
  },
  {
   "cell_type": "code",
   "execution_count": 2,
   "metadata": {},
   "outputs": [
    {
     "name": "stdout",
     "output_type": "stream",
     "text": [
      "Failed on region: 1\n",
      "magic_no_act_regions^fb_0 has been previously defined as Fact or extensional database.\n"
     ]
    }
   ],
   "source": [
    "regions_path = '../reverse_inference_histology/JULICH_BRAIN_CYTOARCHITECTONIC_MAPS_2_9_MNI152_2009C_NONL_ASYM.txt'\n",
    "brain_path = '../reverse_inference_histology/JULICH_BRAIN_CYTOARCHITECTONIC_MAPS_2_9_MNI152_2009C_NONL_ASYM.pmaps.nii.gz'\n",
    "\n",
    "s.run([1], regions_path, brain_path, probabilistic_atlas=True, results_path='./')"
   ]
  },
  {
   "cell_type": "code",
   "execution_count": null,
   "metadata": {},
   "outputs": [],
   "source": []
  }
 ],
 "metadata": {
  "kernelspec": {
   "display_name": "Python 3.9.12 ('b2rio')",
   "language": "python",
   "name": "python3"
  },
  "language_info": {
   "codemirror_mode": {
    "name": "ipython",
    "version": 3
   },
   "file_extension": ".py",
   "mimetype": "text/x-python",
   "name": "python",
   "nbconvert_exporter": "python",
   "pygments_lexer": "ipython3",
   "version": "3.8.5"
  },
  "orig_nbformat": 4,
  "vscode": {
   "interpreter": {
    "hash": "fc35c1714800d27a526dc10e912072b1ec1592182b3989c828d7f7c11c6198a4"
   }
  }
 },
 "nbformat": 4,
 "nbformat_minor": 2
}
