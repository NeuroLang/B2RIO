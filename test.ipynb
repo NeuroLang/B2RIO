{
 "cells": [
  {
   "cell_type": "code",
   "execution_count": 1,
   "metadata": {},
   "outputs": [
    {
     "name": "stderr",
     "output_type": "stream",
     "text": [
      "/Users/gzanitti/.local/lib/python3.8/site-packages/nilearn-0.8.1-py3.8.egg/nilearn/datasets/__init__.py:93: FutureWarning: Fetchers from the nilearn.datasets module will be updated in version 0.9 to return python strings instead of bytes and Pandas dataframes instead of Numpy arrays.\n",
      "  warn(\"Fetchers from the nilearn.datasets module will be \"\n"
     ]
    }
   ],
   "source": [
    "import nibabel as nib\n",
    "from nilearn import datasets, image\n",
    "import numpy as np\n",
    "\n",
    "brain_path = '../reverse_inference_histology/JULICH_BRAIN_CYTOARCHITECTONIC_MAPS_2_9_MNI152_2009C_NONL_ASYM.pmaps.nii.gz'\n",
    "\n",
    "resample = 4\n",
    "mni_t1 = nib.load(datasets.fetch_icbm152_2009()['t1'])\n",
    "mni_t1 = image.resample_img(mni_t1, np.eye(3) * resample)\n",
    "pmaps_4d = image.resample_img(\n",
    "    image.load_img(brain_path), mni_t1.affine, interpolation='nearest'\n",
    ")"
   ]
  },
  {
   "cell_type": "code",
   "execution_count": 16,
   "metadata": {},
   "outputs": [],
   "source": [
    "brain_regions_prob = []\n",
    "new_obj =  pmaps_4d.dataobj\n",
    "non_zero = np.nonzero(pmaps_4d.dataobj)\n",
    "for x, y, z, r in zip(*non_zero):\n",
    "    if r in [105, 106, 107, 108, 109, 110, 111, 112]:\n",
    "        new_obj[x][y][z] = r\n",
    "    else:\n",
    "        new_obj[x][y][z] = 0"
   ]
  },
  {
   "cell_type": "code",
   "execution_count": 17,
   "metadata": {},
   "outputs": [],
   "source": [
    "another_img = nib.Nifti1Image(new_obj, pmaps_4d.affine, nib.Nifti1Header())"
   ]
  },
  {
   "cell_type": "code",
   "execution_count": 18,
   "metadata": {},
   "outputs": [],
   "source": [
    "from b2rio.processing import Solver\n",
    "s = Solver(resample=4)\n",
    "df = s.run(another_img, radius=4)"
   ]
  },
  {
   "cell_type": "code",
   "execution_count": 19,
   "metadata": {},
   "outputs": [
    {
     "data": {
      "text/plain": [
       "{}"
      ]
     },
     "execution_count": 19,
     "metadata": {},
     "output_type": "execute_result"
    }
   ],
   "source": [
    "df"
   ]
  },
  {
   "cell_type": "code",
   "execution_count": null,
   "metadata": {},
   "outputs": [
    {
     "data": {
      "text/plain": [
       "Index([], dtype='object')"
      ]
     },
     "execution_count": 12,
     "metadata": {},
     "output_type": "execute_result"
    }
   ],
   "source": [
    "df.columns"
   ]
  },
  {
   "cell_type": "code",
   "execution_count": null,
   "metadata": {},
   "outputs": [],
   "source": []
  }
 ],
 "metadata": {
  "kernelspec": {
   "display_name": "Python 3.9.12 ('b2rio')",
   "language": "python",
   "name": "python3"
  },
  "language_info": {
   "codemirror_mode": {
    "name": "ipython",
    "version": 3
   },
   "file_extension": ".py",
   "mimetype": "text/x-python",
   "name": "python",
   "nbconvert_exporter": "python",
   "pygments_lexer": "ipython3",
   "version": "3.8.5"
  },
  "orig_nbformat": 4,
  "vscode": {
   "interpreter": {
    "hash": "fc35c1714800d27a526dc10e912072b1ec1592182b3989c828d7f7c11c6198a4"
   }
  }
 },
 "nbformat": 4,
 "nbformat_minor": 2
}
